{
 "cells": [
  {
   "cell_type": "code",
   "execution_count": 48,
   "metadata": {},
   "outputs": [],
   "source": [
    "import matplotlib.pyplot as plt\n",
    "import pandas as pd\n",
    "import numpy as np\n",
    "from matplotlib.font_manager import FontProperties\n",
    "myfont = FontProperties(fname=r'/Users/kiki/Library/Fonts/微软正黑体.ttf')"
   ]
  },
  {
   "cell_type": "code",
   "execution_count": 8,
   "metadata": {},
   "outputs": [
    {
     "name": "stderr",
     "output_type": "stream",
     "text": [
      "/anaconda3/lib/python3.6/site-packages/IPython/core/interactiveshell.py:2698: DtypeWarning: Columns (8) have mixed types. Specify dtype option on import or set low_memory=False.\n",
      "  interactivity=interactivity, compiler=compiler, result=result)\n",
      "/anaconda3/lib/python3.6/site-packages/IPython/core/interactiveshell.py:2698: DtypeWarning: Columns (23) have mixed types. Specify dtype option on import or set low_memory=False.\n",
      "  interactivity=interactivity, compiler=compiler, result=result)\n"
     ]
    }
   ],
   "source": [
    "member = pd.read_csv('Data/Member.csv')\n",
    "order = pd.read_csv('Data/Orders.csv')\n",
    "pro_order = pd.read_csv('Data/PromotionOrders.csv')\n",
    "ecoupon = pd.read_csv('Data/ECoupon.csv')"
   ]
  },
  {
   "cell_type": "code",
   "execution_count": 10,
   "metadata": {},
   "outputs": [
    {
     "data": {
      "text/html": [
       "<div>\n",
       "<style>\n",
       "    .dataframe thead tr:only-child th {\n",
       "        text-align: right;\n",
       "    }\n",
       "\n",
       "    .dataframe thead th {\n",
       "        text-align: left;\n",
       "    }\n",
       "\n",
       "    .dataframe tbody tr th {\n",
       "        vertical-align: top;\n",
       "    }\n",
       "</style>\n",
       "<table border=\"1\" class=\"dataframe\">\n",
       "  <thead>\n",
       "    <tr style=\"text-align: right;\">\n",
       "      <th></th>\n",
       "      <th>MemberId</th>\n",
       "      <th>Birthday</th>\n",
       "      <th>GenderTypeDef</th>\n",
       "      <th>RegisterSourceTypeDef</th>\n",
       "      <th>RegisterDateTime</th>\n",
       "      <th>MinOrderDate</th>\n",
       "      <th>OpenCardPresent</th>\n",
       "      <th>LastBirthdayPresentYear</th>\n",
       "      <th>IsInBlackList</th>\n",
       "    </tr>\n",
       "  </thead>\n",
       "  <tbody>\n",
       "    <tr>\n",
       "      <th>0</th>\n",
       "      <td>1587633</td>\n",
       "      <td>NaN</td>\n",
       "      <td>NaN</td>\n",
       "      <td>Web</td>\n",
       "      <td>2016-08-05 19:45:59.670</td>\n",
       "      <td>NaN</td>\n",
       "      <td>0</td>\n",
       "      <td>0</td>\n",
       "      <td>NaN</td>\n",
       "    </tr>\n",
       "    <tr>\n",
       "      <th>1</th>\n",
       "      <td>1587634</td>\n",
       "      <td>NaN</td>\n",
       "      <td>NaN</td>\n",
       "      <td>Web</td>\n",
       "      <td>2016-10-27 21:25:22.907</td>\n",
       "      <td>NaN</td>\n",
       "      <td>0</td>\n",
       "      <td>0</td>\n",
       "      <td>NaN</td>\n",
       "    </tr>\n",
       "    <tr>\n",
       "      <th>2</th>\n",
       "      <td>1587658</td>\n",
       "      <td>NaN</td>\n",
       "      <td>NaN</td>\n",
       "      <td>Web</td>\n",
       "      <td>2015-08-11 19:11:09.030</td>\n",
       "      <td>NaN</td>\n",
       "      <td>0</td>\n",
       "      <td>0</td>\n",
       "      <td>NaN</td>\n",
       "    </tr>\n",
       "    <tr>\n",
       "      <th>3</th>\n",
       "      <td>1587809</td>\n",
       "      <td>NaN</td>\n",
       "      <td>NaN</td>\n",
       "      <td>Web</td>\n",
       "      <td>2015-08-11 19:53:32.397</td>\n",
       "      <td>NaN</td>\n",
       "      <td>0</td>\n",
       "      <td>0</td>\n",
       "      <td>NaN</td>\n",
       "    </tr>\n",
       "    <tr>\n",
       "      <th>4</th>\n",
       "      <td>1587830</td>\n",
       "      <td>NaN</td>\n",
       "      <td>NaN</td>\n",
       "      <td>Web</td>\n",
       "      <td>2017-06-03 17:33:03.987</td>\n",
       "      <td>NaN</td>\n",
       "      <td>0</td>\n",
       "      <td>0</td>\n",
       "      <td>NaN</td>\n",
       "    </tr>\n",
       "  </tbody>\n",
       "</table>\n",
       "</div>"
      ],
      "text/plain": [
       "   MemberId Birthday GenderTypeDef RegisterSourceTypeDef  \\\n",
       "0   1587633      NaN           NaN                   Web   \n",
       "1   1587634      NaN           NaN                   Web   \n",
       "2   1587658      NaN           NaN                   Web   \n",
       "3   1587809      NaN           NaN                   Web   \n",
       "4   1587830      NaN           NaN                   Web   \n",
       "\n",
       "          RegisterDateTime MinOrderDate  OpenCardPresent  \\\n",
       "0  2016-08-05 19:45:59.670          NaN                0   \n",
       "1  2016-10-27 21:25:22.907          NaN                0   \n",
       "2  2015-08-11 19:11:09.030          NaN                0   \n",
       "3  2015-08-11 19:53:32.397          NaN                0   \n",
       "4  2017-06-03 17:33:03.987          NaN                0   \n",
       "\n",
       "   LastBirthdayPresentYear IsInBlackList  \n",
       "0                        0           NaN  \n",
       "1                        0           NaN  \n",
       "2                        0           NaN  \n",
       "3                        0           NaN  \n",
       "4                        0           NaN  "
      ]
     },
     "execution_count": 10,
     "metadata": {},
     "output_type": "execute_result"
    }
   ],
   "source": [
    "member.head()"
   ]
  },
  {
   "cell_type": "code",
   "execution_count": 11,
   "metadata": {
    "collapsed": true
   },
   "outputs": [],
   "source": [
    "#清除NaN資料\n",
    "#member_filled = member.fillna(0)\n",
    "#取出想要的row\n",
    "#fliter = (member[\"MemberId\"]==1587633)\n",
    "#member[fliter]"
   ]
  },
  {
   "cell_type": "markdown",
   "metadata": {},
   "source": [
    "## 問題：\n",
    "1. 不同縣市與訂單取消、未取貨間的關係\n",
    "2. 訂單總金額與訂單取消、未取貨間的關係\n",
    "\n",
    "http://queirozf.com/entries/pandas-dataframe-plot-examples-with-matplotlib-pyplot"
   ]
  },
  {
   "cell_type": "code",
   "execution_count": 27,
   "metadata": {},
   "outputs": [],
   "source": [
    "merge_order_pro = pd.merge(order, pro_order, how='left', on='SalesOrderSlaveId')"
   ]
  },
  {
   "cell_type": "code",
   "execution_count": 28,
   "metadata": {},
   "outputs": [],
   "source": [
    "merge_fill = merge_order_pro.fillna(0)"
   ]
  },
  {
   "cell_type": "code",
   "execution_count": 29,
   "metadata": {},
   "outputs": [
    {
     "data": {
      "text/html": [
       "<div>\n",
       "<style>\n",
       "    .dataframe thead tr:only-child th {\n",
       "        text-align: right;\n",
       "    }\n",
       "\n",
       "    .dataframe thead th {\n",
       "        text-align: left;\n",
       "    }\n",
       "\n",
       "    .dataframe tbody tr th {\n",
       "        vertical-align: top;\n",
       "    }\n",
       "</style>\n",
       "<table border=\"1\" class=\"dataframe\">\n",
       "  <thead>\n",
       "    <tr style=\"text-align: right;\">\n",
       "      <th></th>\n",
       "      <th>DateId</th>\n",
       "      <th>MemberId</th>\n",
       "      <th>OrderGroupCode</th>\n",
       "      <th>TrackSourceTypeDef</th>\n",
       "      <th>TrackDeviceTypeDef</th>\n",
       "      <th>PayProfileTypeDef</th>\n",
       "      <th>SalesOrderSlaveId</th>\n",
       "      <th>SalePageId</th>\n",
       "      <th>IsMajor</th>\n",
       "      <th>IsGift</th>\n",
       "      <th>...</th>\n",
       "      <th>SalesOrderSlavePromotionDiscountAllocated</th>\n",
       "      <th>SalesOrderSlavePromotionDiscountAllocatedQty</th>\n",
       "      <th>SalesOrderSlavePromotionDiscountRate</th>\n",
       "      <th>DiscountType</th>\n",
       "      <th>PromotionCondition_DiscountPrice</th>\n",
       "      <th>PromotionCondition_DiscountRate</th>\n",
       "      <th>PromotionCondition_TotalPrice</th>\n",
       "      <th>PromotionCondition_TotalQty</th>\n",
       "      <th>PromotionStartDateTime</th>\n",
       "      <th>PromotionEndDateTime</th>\n",
       "    </tr>\n",
       "  </thead>\n",
       "  <tbody>\n",
       "    <tr>\n",
       "      <th>0</th>\n",
       "      <td>20150703</td>\n",
       "      <td>1388133</td>\n",
       "      <td>b'\\xd0_\\x8eby\\xe8\\x88\\xa5\\x85\\xe4\\x15\\nMC\\xeaO...</td>\n",
       "      <td>Web</td>\n",
       "      <td>Mobile</td>\n",
       "      <td>SevenEleven</td>\n",
       "      <td>4457777</td>\n",
       "      <td>1242871</td>\n",
       "      <td>True</td>\n",
       "      <td>False</td>\n",
       "      <td>...</td>\n",
       "      <td>0.0</td>\n",
       "      <td>0.0</td>\n",
       "      <td>0.0</td>\n",
       "      <td>0</td>\n",
       "      <td>0.0</td>\n",
       "      <td>0.0</td>\n",
       "      <td>0.0</td>\n",
       "      <td>0.0</td>\n",
       "      <td>0</td>\n",
       "      <td>0</td>\n",
       "    </tr>\n",
       "    <tr>\n",
       "      <th>1</th>\n",
       "      <td>20150703</td>\n",
       "      <td>1388133</td>\n",
       "      <td>b'\\xd0_\\x8eby\\xe8\\x88\\xa5\\x85\\xe4\\x15\\nMC\\xeaO...</td>\n",
       "      <td>Web</td>\n",
       "      <td>Mobile</td>\n",
       "      <td>SevenEleven</td>\n",
       "      <td>4457778</td>\n",
       "      <td>1242880</td>\n",
       "      <td>True</td>\n",
       "      <td>False</td>\n",
       "      <td>...</td>\n",
       "      <td>0.0</td>\n",
       "      <td>0.0</td>\n",
       "      <td>0.0</td>\n",
       "      <td>0</td>\n",
       "      <td>0.0</td>\n",
       "      <td>0.0</td>\n",
       "      <td>0.0</td>\n",
       "      <td>0.0</td>\n",
       "      <td>0</td>\n",
       "      <td>0</td>\n",
       "    </tr>\n",
       "    <tr>\n",
       "      <th>2</th>\n",
       "      <td>20150703</td>\n",
       "      <td>1388133</td>\n",
       "      <td>b'\\xd0_\\x8eby\\xe8\\x88\\xa5\\x85\\xe4\\x15\\nMC\\xeaO...</td>\n",
       "      <td>Web</td>\n",
       "      <td>Mobile</td>\n",
       "      <td>SevenEleven</td>\n",
       "      <td>4457779</td>\n",
       "      <td>1242880</td>\n",
       "      <td>True</td>\n",
       "      <td>False</td>\n",
       "      <td>...</td>\n",
       "      <td>0.0</td>\n",
       "      <td>0.0</td>\n",
       "      <td>0.0</td>\n",
       "      <td>0</td>\n",
       "      <td>0.0</td>\n",
       "      <td>0.0</td>\n",
       "      <td>0.0</td>\n",
       "      <td>0.0</td>\n",
       "      <td>0</td>\n",
       "      <td>0</td>\n",
       "    </tr>\n",
       "    <tr>\n",
       "      <th>3</th>\n",
       "      <td>20150703</td>\n",
       "      <td>1388133</td>\n",
       "      <td>b'\\xd0_\\x8eby\\xe8\\x88\\xa5\\x85\\xe4\\x15\\nMC\\xeaO...</td>\n",
       "      <td>Web</td>\n",
       "      <td>Mobile</td>\n",
       "      <td>SevenEleven</td>\n",
       "      <td>4457780</td>\n",
       "      <td>1175574</td>\n",
       "      <td>True</td>\n",
       "      <td>False</td>\n",
       "      <td>...</td>\n",
       "      <td>0.0</td>\n",
       "      <td>0.0</td>\n",
       "      <td>0.0</td>\n",
       "      <td>0</td>\n",
       "      <td>0.0</td>\n",
       "      <td>0.0</td>\n",
       "      <td>0.0</td>\n",
       "      <td>0.0</td>\n",
       "      <td>0</td>\n",
       "      <td>0</td>\n",
       "    </tr>\n",
       "    <tr>\n",
       "      <th>4</th>\n",
       "      <td>20150703</td>\n",
       "      <td>365787</td>\n",
       "      <td>b\"\\x04?}pe$m\\x7f\\x85\\xa0y\\x81'e5\\xca\\xbb\\xf9\\x...</td>\n",
       "      <td>Web</td>\n",
       "      <td>Mobile</td>\n",
       "      <td>SevenEleven</td>\n",
       "      <td>4457791</td>\n",
       "      <td>1194488</td>\n",
       "      <td>True</td>\n",
       "      <td>False</td>\n",
       "      <td>...</td>\n",
       "      <td>0.0</td>\n",
       "      <td>0.0</td>\n",
       "      <td>0.0</td>\n",
       "      <td>0</td>\n",
       "      <td>0.0</td>\n",
       "      <td>0.0</td>\n",
       "      <td>0.0</td>\n",
       "      <td>0.0</td>\n",
       "      <td>0</td>\n",
       "      <td>0</td>\n",
       "    </tr>\n",
       "  </tbody>\n",
       "</table>\n",
       "<p>5 rows × 40 columns</p>\n",
       "</div>"
      ],
      "text/plain": [
       "     DateId  MemberId                                     OrderGroupCode  \\\n",
       "0  20150703   1388133  b'\\xd0_\\x8eby\\xe8\\x88\\xa5\\x85\\xe4\\x15\\nMC\\xeaO...   \n",
       "1  20150703   1388133  b'\\xd0_\\x8eby\\xe8\\x88\\xa5\\x85\\xe4\\x15\\nMC\\xeaO...   \n",
       "2  20150703   1388133  b'\\xd0_\\x8eby\\xe8\\x88\\xa5\\x85\\xe4\\x15\\nMC\\xeaO...   \n",
       "3  20150703   1388133  b'\\xd0_\\x8eby\\xe8\\x88\\xa5\\x85\\xe4\\x15\\nMC\\xeaO...   \n",
       "4  20150703    365787  b\"\\x04?}pe$m\\x7f\\x85\\xa0y\\x81'e5\\xca\\xbb\\xf9\\x...   \n",
       "\n",
       "  TrackSourceTypeDef TrackDeviceTypeDef PayProfileTypeDef  SalesOrderSlaveId  \\\n",
       "0                Web             Mobile       SevenEleven            4457777   \n",
       "1                Web             Mobile       SevenEleven            4457778   \n",
       "2                Web             Mobile       SevenEleven            4457779   \n",
       "3                Web             Mobile       SevenEleven            4457780   \n",
       "4                Web             Mobile       SevenEleven            4457791   \n",
       "\n",
       "   SalePageId  IsMajor  IsGift         ...           \\\n",
       "0     1242871     True   False         ...            \n",
       "1     1242880     True   False         ...            \n",
       "2     1242880     True   False         ...            \n",
       "3     1175574     True   False         ...            \n",
       "4     1194488     True   False         ...            \n",
       "\n",
       "   SalesOrderSlavePromotionDiscountAllocated  \\\n",
       "0                                        0.0   \n",
       "1                                        0.0   \n",
       "2                                        0.0   \n",
       "3                                        0.0   \n",
       "4                                        0.0   \n",
       "\n",
       "   SalesOrderSlavePromotionDiscountAllocatedQty  \\\n",
       "0                                           0.0   \n",
       "1                                           0.0   \n",
       "2                                           0.0   \n",
       "3                                           0.0   \n",
       "4                                           0.0   \n",
       "\n",
       "   SalesOrderSlavePromotionDiscountRate  DiscountType  \\\n",
       "0                                   0.0             0   \n",
       "1                                   0.0             0   \n",
       "2                                   0.0             0   \n",
       "3                                   0.0             0   \n",
       "4                                   0.0             0   \n",
       "\n",
       "   PromotionCondition_DiscountPrice  PromotionCondition_DiscountRate  \\\n",
       "0                               0.0                              0.0   \n",
       "1                               0.0                              0.0   \n",
       "2                               0.0                              0.0   \n",
       "3                               0.0                              0.0   \n",
       "4                               0.0                              0.0   \n",
       "\n",
       "   PromotionCondition_TotalPrice PromotionCondition_TotalQty  \\\n",
       "0                            0.0                         0.0   \n",
       "1                            0.0                         0.0   \n",
       "2                            0.0                         0.0   \n",
       "3                            0.0                         0.0   \n",
       "4                            0.0                         0.0   \n",
       "\n",
       "   PromotionStartDateTime PromotionEndDateTime  \n",
       "0                       0                    0  \n",
       "1                       0                    0  \n",
       "2                       0                    0  \n",
       "3                       0                    0  \n",
       "4                       0                    0  \n",
       "\n",
       "[5 rows x 40 columns]"
      ]
     },
     "execution_count": 29,
     "metadata": {},
     "output_type": "execute_result"
    }
   ],
   "source": [
    "merge_fill.ead"
   ]
  },
  {
   "cell_type": "code",
   "execution_count": 37,
   "metadata": {},
   "outputs": [
    {
     "data": {
      "text/plain": [
       "DateId                           int64\n",
       "MemberId                         int64\n",
       "OrderGroupCode                  object\n",
       "TrackSourceTypeDef              object\n",
       "TrackDeviceTypeDef              object\n",
       "PayProfileTypeDef               object\n",
       "SalesOrderSlaveId                int64\n",
       "SalePageId                       int64\n",
       "IsMajor                           bool\n",
       "IsGift                            bool\n",
       "IsSalePageGift                    bool\n",
       "Quantity                         int64\n",
       "UnitPrice                      float64\n",
       "PromotionDiscount              float64\n",
       "ECouponId                        int64\n",
       "ECouponDiscount                float64\n",
       "SalesOrderSlaveTotalPayment    float64\n",
       "SalesOrderSlaveDateTime         object\n",
       "SalesOrderReceiverId             int64\n",
       "City                            object\n",
       "District                        object\n",
       "ZipCode                        float64\n",
       "StoreName                       object\n",
       "StoreId                         object\n",
       "DeliverTypeDef                  object\n",
       "StatusDef                       object\n",
       "ReturnGoodsDateId              float64\n",
       "CauseDef                        object\n",
       "dtype: object"
      ]
     },
     "execution_count": 37,
     "metadata": {},
     "output_type": "execute_result"
    }
   ],
   "source": [
    "order.dtypes"
   ]
  },
  {
   "cell_type": "code",
   "execution_count": 52,
   "metadata": {},
   "outputs": [
    {
     "data": {
      "image/png": "[encoded data removed]",
      "text/plain": [
       "<matplotlib.figure.Figure at 0x116701400>"
      ]
     },
     "metadata": {},
     "output_type": "display_data"
    },
    {
     "data": {
      "image/png": "[encoded data removed]",
      "text/plain": [
       "<matplotlib.figure.Figure at 0x11a82f2e8>"
      ]
     },
     "metadata": {},
     "output_type": "display_data"
    }
   ],
   "source": [
    "order.groupby(['City','StatusDef']).size().unstack().plot(kind='bar',stacked=True) \n",
    "plt.show()"
   ]
  },
  {
   "cell_type": "code",
   "execution_count": 53,
   "metadata": {},
   "outputs": [
    {
     "data": {
      "text/plain": [
       "'/anaconda3/lib/python3.6/site-packages/matplotlib/mpl-data/matplotlibrc'"
      ]
     },
     "execution_count": 53,
     "metadata": {},
     "output_type": "execute_result"
    }
   ],
   "source": [
    "import matplotlib \n",
    "matplotlib.matplotlib_fname()"
   ]
  },
  {
   "cell_type": "code",
   "execution_count": null,
   "metadata": {
    "collapsed": true
   },
   "outputs": [],
   "source": []
  }
 ],
 "metadata": {
  "kernelspec": {
   "display_name": "Python 3",
   "language": "python",
   "name": "python3"
  },
  "language_info": {
   "codemirror_mode": {
    "name": "ipython",
    "version": 3
   },
   "file_extension": ".py",
   "mimetype": "text/x-python",
   "name": "python",
   "nbconvert_exporter": "python",
   "pygments_lexer": "ipython3",
   "version": "3.6.7"
  }
 },
 "nbformat": 4,
 "nbformat_minor": 2
}
