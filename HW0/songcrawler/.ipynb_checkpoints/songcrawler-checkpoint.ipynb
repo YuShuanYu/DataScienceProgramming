{
 "cells": [
  {
   "cell_type": "markdown",
   "metadata": {},
   "source": [
    "## 歌詞爬蟲\n",
    "從kkbox網站中的英美金曲榜，找到排行榜上的歌曲歌詞並存進pkl檔案中"
   ]
  },
  {
   "cell_type": "code",
   "execution_count": 3,
   "metadata": {
    "collapsed": true
   },
   "outputs": [],
   "source": [
    "import requests\n",
    "from bs4 import BeautifulSoup as bs\n",
    "from datetime import datetime, timedelta"
   ]
  },
  {
   "cell_type": "code",
   "execution_count": 6,
   "metadata": {
    "collapsed": true
   },
   "outputs": [],
   "source": [
    "def kkbox_process_document(document):\n",
    "    #讀取網頁原始碼並將歌詞相關的網址取出\n",
    "    nodes = doc.select('td.song-data > a.song-title')   \n",
    "    data = list()\n",
    "    for li in nodes:\n",
    "        try:\n",
    "            li_link = 'https://www.kkbox.com' + li['href']\n",
    "        except:\n",
    "            continue\n",
    "        \n",
    "        li_res = requests.get(li_link)\n",
    "        li_doc = bs(li_res.text, 'lxml')\n",
    "        li_title_pos = li_doc.select('div.song-content > h1.section-title')\n",
    "        li_title = li_title_pos[0].string #從歌詞網站中存取歌名\n",
    "        li_content = \"\"\n",
    "        #存取歌詞內容\n",
    "        for ele in li_doc.select('div.song-content > p.lyrics'):\n",
    "            li_content += ele.get_text()\n",
    "        #將資料存入data\n",
    "        data.append({\n",
    "            'title': li_title,\n",
    "            'link' : li_link,\n",
    "            'content' : li_content,\n",
    "            'tags' : []\n",
    "        })\n",
    "        \n",
    "    return data"
   ]
  },
  {
   "cell_type": "code",
   "execution_count": 7,
   "metadata": {
    "collapsed": true
   },
   "outputs": [],
   "source": [
    "#輸入目標網站，使用kkbox_process_document執行爬蟲\n",
    "res = requests.get('https://www.kkbox.com/tw/tc/playlist/Ot9b9neLPHGat4LYK-')\n",
    "doc = bs(res.text, 'lxml')\n",
    "data = kkbox_process_document(doc)"
   ]
  },
  {
   "cell_type": "code",
   "execution_count": 8,
   "metadata": {},
   "outputs": [
    {
     "data": {
      "text/plain": [
       "[{'content': '\\n                作詞：TBHits & Social House\\xa0\\xa0\\xa0\\n                作曲：TBHits & Social House\\n\\r\\nYeah, breakfast at Tiffany\\'s and bottles of bubbles\\r\\nGirls with tattoos who like getting in trouble\\r\\nLashes and diamonds, ATM machines\\r\\nBuy myself all of my favorite things (Yeah)\\r\\nBeen through some bad shit, I should be a sad bitch\\r\\nWho woulda thought it\\'d turn me to a savage?\\r\\nRather be tied up with calls and not strings\\r\\nWrite my own checks like I write what I sing, yeah (Yeah)\\n\\r\\nMy wrist, stop watchin\\', my neck is flossy\\r\\nMake big deposits, my gloss is poppin\\'\\r\\nYou like my hair? Gee, thanks, just bought it\\r\\nI see it, I like it, I want it, I got it (Yeah)\\n\\r\\nI want it, I got it, I want it, I got it\\r\\nI want it, I got it, I want it, I got it\\r\\nYou like my hair? Gee, thanks, just bought it\\r\\nI see it, I like it, I want it, I got it (Yep)\\n\\r\\nWearing a ring, but ain\\'t gon\\' be no \"Mrs.\"\\r\\nBought matching diamonds for six of my bitches\\r\\nI\\'d rather spoil all my friends with my riches\\r\\nThink retail therapy my new addiction\\r\\nWhoever said money can\\'t solve your problems\\r\\nMust not have had enough money to solve \\'em\\r\\nThey say, \"Which one?\" I say, \"Nah, I want all of \\'em\"\\r\\nHappiness is the same price as red-bottoms\\n\\r\\nMy smile is beamin\\' (Yeah), my skin is gleamin\\' (Is gleamin\\')\\r\\nThe way it shine, I know you\\'ve seen it (You\\'ve seen it)\\r\\nI bought a crib just for (Just for) the closet (Closet)\\r\\nBoth his and hers, I want it, I got it, yeah\\n\\r\\nI want it, I got it, I want it, I got it\\r\\nI want it, I got it, I want it, I got it (Baby)\\r\\nYou like my hair? Gee, thanks, just bought it (Oh yeah)\\r\\nI see it, I like it, I want it, I got it (Yep)\\n\\r\\nYeah, my receipts be lookin\\' like phone numbers\\r\\nIf it ain\\'t money, then wrong number\\r\\nBlack card is my business card\\r\\nThe way it be settin\\' the tone for me\\r\\nI don\\'t mean to brag, but I be like, \"Put it in the bag,\" yeah\\r\\nWhen you see them racks, they stacked up like my ass, yeah\\r\\nShoot, go from the store to the booth\\r\\nMake it all back in one loop, gimme the loot\\r\\nNever mind, I got a juice\\r\\nNothing but net when we shoot\\r\\nLook at my neck, look at my jet\\r\\nAin\\'t got enough money to pay me respect\\r\\nAin\\'t no budget when I\\'m on the set\\r\\nIf I like it, then that\\'s what I get, yeah\\n\\r\\nI want it, I got it, I want it, I got it (Oh yeah)\\r\\nI want it, I got it, I want it, I got it (Oh yeah, yeah)\\r\\nYou like my hair? Gee, thanks, just bought it\\r\\nI see it, I like it, I want it, I got it (I see, yep)\\n',\n",
       "  'link': 'https://www.kkbox.com/tw/tc/song/pI600EP8.8KNmv5yNmv5y0XL-index.html',\n",
       "  'tags': [],\n",
       "  'title': '7 rings'},\n",
       " {'content': \"\\n                作詞：Halsey, Delacey, Louis Bell, Amy Allen & Scott Storch\\xa0\\xa0\\xa0\\n                作曲：Halsey, Delacey, Louis Bell, Amy Allen & Scott Storch\\n\\r\\nFound you when your heart was broke\\r\\nI filled your cup until it overflowed\\r\\nTook it so far to keep you close (keep you close)\\r\\nI was afraid to leave you on your own\\n\\r\\nI said I'd catch you if you fall (fall)\\r\\nAnd if they laugh, then fuck 'em all (all)\\r\\nAnd then I got you off your knees\\r\\nPut you right back on your feet\\r\\nJust so you could take advantage of me\\n\\r\\nTell me, how's it feel sittin' up there?\\r\\nFeeling so high, but too far away to hold me\\r\\nYou know I'm the one who put you up there\\r\\nName in the sky, does it ever get lonely?\\r\\nThinking you could live without me\\r\\nThinking you could live without me\\r\\nBaby, I'm the one who put you up there\\r\\nI don't know why (yeah, I don't know why)\\r\\nThinking you could live without me\\r\\nLive without me\\r\\nBaby, I'm the one who put you up there\\r\\nI don't know why (I don't know why, yeah, yeah)\\n\\r\\nGave love 'bout a hundred tries (hundred tries)\\r\\nJust running from the demons in your mind\\r\\nThen I took yours and made 'em mine (mine)\\r\\nI didn't notice 'cause my love was blind\\n\\r\\nSaid I'd catch you if you fall (fall)\\r\\nAnd if they laugh, then fuck 'em all (all)\\r\\nAnd then I got you off your knees\\r\\nPut you right back on your feet\\r\\nJust so you could take advantage of me\\n\\r\\nTell me, how's it feel sittin' up there?\\r\\nFeeling so high but too far away to hold me\\r\\nYou know I'm the one who put you up there\\r\\nName in the sky, does it ever get lonely?\\r\\nThinking you could live without me\\r\\nThinking you could live without me\\r\\nBaby, I'm the one who put you up there\\r\\nI don't know why (yeah, I don't know why)\\r\\nThinking you could live without me\\r\\nLive without me\\r\\nBaby, I'm the one who put you up there\\r\\nI don't know why, yeah\\n\\r\\nYou don't have to say just what you did (what you did)\\r\\nI already know (I know)\\r\\nI had to go and find out from them (oh-woah)\\r\\nSo tell me, how's it feel? (oh-woah)\\n\\r\\nTell me, how's it feel sittin' up there?\\r\\nFeeling so high, but too far away to hold me\\r\\nYou know I'm the one who put you up there\\r\\nName in the sky, does it ever get lonely?\\r\\nThinking you could live without me\\r\\nThinking you could live without me\\r\\nBaby, I'm the one who put you up there\\r\\nI don't know why (yeah, I don't know why)\\n\",\n",
       "  'link': 'https://www.kkbox.com/tw/tc/song/gOZ009PILLZFTtQBFTtQB0XL-index.html',\n",
       "  'tags': [],\n",
       "  'title': 'Without Me'},\n",
       " {'content': '\\n                作詞：Max Martin & ILYA\\xa0\\xa0\\xa0\\n                作曲：Max Martin & ILYA\\n\\r\\nYou got me some type of way (Hmm)\\r\\nAin\\'t used to feelin\\' this way (Mmm-mmm)\\r\\nI do not know what to say (Yeah, yeah)\\r\\nBut I know I shouldn\\'t think about it\\r\\nTook one fuckin\\' look at your face (Hmm)\\r\\nNow I wanna know how you taste (Mmm-mmm)\\r\\nUsually don\\'t give it away (Yeah, yeah)\\r\\nBut you know I\\'m out here thinkin\\' \\'bout it\\n\\r\\nThen I realize she\\'s right there\\r\\nAnd I\\'m at home like, \"Damn, this ain\\'t fair\"\\n\\r\\nBreak up with your girlfriend (Girlfriend)\\r\\nYeah, yeah, \\'cause I\\'m bored\\r\\nYou could hit it in the mornin\\' (Mornin\\')\\r\\nYeah, yeah, like it\\'s yours\\r\\nI know it ain\\'t right\\r\\nBut I don\\'t care (Care)\\r\\nBreak up with your girlfriend (Girlfriend)\\r\\nYeah, yeah, \\'cause I\\'m bored\\n\\r\\nThis shit always happen to me (Yeah)\\r\\nWhy can\\'t we just play for keeps? (Mmm-mmm)\\r\\nPractically on my knees (Yeah, yeah)\\r\\nBut I know I shouldn\\'t think about it\\r\\nYou know what you\\'re doin\\' to me\\r\\nYou\\'re singin\\' my songs in the streets, yeah, yeah\\r\\nActin\\' all innocent, please\\r\\nWhen I know you\\'re out here thinkin\\' \\'bout it\\n\\r\\nThen you realize she\\'s right there (Yeah)\\r\\nAnd you\\'re at home like, \"Damn, she can\\'t compare\"\\n\\r\\nBreak up with your girlfriend (Girlfriend)\\r\\nYeah, yeah, \\'cause I\\'m bored\\r\\nYou could hit it in the mornin\\' (In the mornin\\')\\r\\nYeah, yeah, like it\\'s yours\\r\\nI know it ain\\'t right\\r\\nBut I don\\'t care (I don\\'t care, yee)\\r\\nBreak up with your girlfriend (With your girlfriend)\\r\\nYeah, yeah, \\'cause I\\'m bored\\n\\r\\nWith your girlfriend, girlfriend, girlfriend, girlfriend\\r\\nWith your girlfriend\\r\\nWith your girlfriend, girlfriend, girlfriend, girlfriend\\n\\r\\nYou could say I\\'m hatin\\' if you want to\\r\\nBut I only hate on her \\'cause I want you\\r\\nSay I\\'m trippin\\' if you feel like\\r\\nBut you without me ain\\'t right (Ain\\'t right)\\r\\nYou could call me crazy \\'cause I want you\\r\\nAnd I never even ever fuckin\\' met you\\r\\nSay I\\'m trippin\\' and it ain\\'t right\\r\\nBut you without me ain\\'t nice (Ain\\'t nice, yeah)\\n\\r\\nBreak up with your girlfriend (With your girlfriend)\\r\\nYeah, yeah, \\'cause I\\'m bored\\r\\nYou could hit it in the mornin\\' (Hit in the mornin\\', yeah, yeah, yeah)\\r\\nYeah, yeah, like it\\'s yours\\r\\nI know it ain\\'t right\\r\\nBut I don\\'t care (Care, yeah)\\r\\nBreak up with your girlfriend (With your girlfriend)\\r\\nYeah, yeah, \\'cause I\\'m bored\\n\\r\\nWith your girlfriend, girlfriend, girlfriend, baby, girlfriend\\r\\nWith your girlfriend\\r\\nWith your girlfriend, girlfriend, girlfriend, girlfriend\\r\\nWith your girlfriend\\n',\n",
       "  'link': 'https://www.kkbox.com/tw/tc/song/J-J00S0C.8KdjXpUdjXpU0XL-index.html',\n",
       "  'tags': [],\n",
       "  'title': \"break up with your girlfriend, i'm bored\"},\n",
       " {'content': \"\\n                作詞：Louis Bell, Billy Walsh, Carter Lang, Swae Lee & Post Malone\\xa0\\xa0\\xa0\\n                作曲：Louis Bell, Billy Walsh, Carter Lang, Swae Lee & Post Malone\\n\\r\\nAyy, ayy, ayy, ayy (Ooh)\\r\\nOoh, ooh, ooh, ooh (Ooh)\\r\\nAyy, ayy\\r\\nOoh, ooh, ooh, ooh\\n\\r\\nNeedless to say, I keep her checked\\r\\nShe was all bad-bad, nevertheless (Yeah)\\r\\nCallin' it quits now, baby, I'm a wreck (Wreck)\\r\\nCrash at my place, baby, you're a wreck (Wreck)\\r\\nNeedless to say, I'm keeping her checked\\r\\nShe was all bad-bad, nevertheless\\r\\nCallin' it quits now, baby, I'm a wreck\\r\\nCrash at my place, baby, you're a wreck\\r\\nThinkin' in a bad way, losin' your grip\\r\\nScreamin' at my face, baby, don't trip\\r\\nSomeone took a big L, don't know how that felt\\r\\nLookin' at you sideways, party on tilt\\r\\nOoh-ooh, some things you just can't refuse\\r\\nShe wanna ride me like a cruise and I'm not tryna lose\\n\\r\\nThen you're left in the dust, unless I stuck by ya\\r\\nYou're the sunflower, I think your love would be too much\\r\\nOr you'll be left in the dust, unless I stuck by ya\\r\\nYou're the sunflower, you're the sunflower\\n\\r\\nEvery time I'm leavin' on ya (Ooh)\\r\\nYou don't make it easy, no (No, no)\\r\\nWish I could be there for ya (Ooh)\\r\\nGive me a reason to, oh (Oh)\\r\\nEvery time I'm walkin' out (Oh)\\r\\nI can hear you tellin' me to turn around (Oh, oh)\\r\\nFightin' for my trust and you won't back down (No)\\r\\nEven if we gotta risk it all right now, oh (Now)\\r\\nI know you're scared of the unknown (-Known)\\r\\nYou don't wanna be alone (Alone)\\r\\nI know I always come and go (And go)\\r\\nBut it's out of my control\\n\\r\\nAnd you'll be left in the dust, unless I stuck by ya\\r\\nYou're the sunflower, I think your love would be too much\\r\\nOr you'll be left in the dust, unless I stuck by ya\\r\\nYou're the sunflower, you're the sunflower (Yeah)\\n\",\n",
       "  'link': 'https://www.kkbox.com/tw/tc/song/Ts700UG-5U3j94Erj94Er0XL-index.html',\n",
       "  'tags': [],\n",
       "  'title': 'Sunflower - Spider-Man: Into the Spider-Verse'},\n",
       " {'content': \"\\n                作詞：Tom Barnes, Pete Kelleher, Ben Kohn, RØMANS & Lewis Capaldi\\xa0\\xa0\\xa0\\n                作曲：Tom Barnes, Pete Kelleher, Ben Kohn, RØMANS & Lewis Capaldi\\n\\r\\nI'm going under and this time I fear there's no one to save me\\r\\nThis all or nothing really got a way of driving me crazy\\r\\nI need somebody to heal\\r\\nSomebody to know\\r\\nSomebody to have\\r\\nSomebody to hold\\r\\nIt's easy to say\\r\\nBut it's never the same\\r\\nI guess I kinda liked the way you numbed all the pain\\n\\r\\nNow the day bleeds\\r\\nInto nightfall\\r\\nAnd you're not here\\r\\nTo get me through it all\\r\\nI let my guard down\\r\\nAnd then you pulled the rug\\r\\nI was getting kinda used to being someone you loved\\n\\r\\nI'm going under and this time I fear there's no one to turn to\\r\\nThis all or nothing way of loving got me sleeping without you\\r\\nNow, I need somebody to know\\r\\nSomebody to heal\\r\\nSomebody to have\\r\\nJust to know how it feels\\r\\nIt's easy to say but it's never the same\\r\\nI guess I kinda liked the way you helped me escape\\n\\r\\nNow the day bleeds\\r\\nInto nightfall\\r\\nAnd you're not here\\r\\nTo get me through it all\\r\\nI let my guard down\\r\\nAnd then you pulled the rug\\r\\nI was getting kinda used to being someone you loved\\n\\r\\nAnd I tend to close my eyes when it hurts sometimes\\r\\nI fall into your arms\\r\\nI'll be safe in your sound til I come back around\\n\\r\\nFor now the day bleeds\\r\\nInto nightfall\\r\\nAnd you're not here\\r\\nTo get me through it all\\r\\nI let my guard down\\r\\nAnd then you pulled the rug\\r\\nI was getting kinda used to being someone you loved\\n\\r\\nBut now the day bleeds\\r\\nInto nightfall\\r\\nAnd you're not here\\r\\nTo get me through it all\\r\\nI let my guard down\\r\\nAnd then you pulled the rug\\r\\nI was getting kinda used to being someone you loved\\n\\r\\nI let my guard down\\r\\nAnd then you pulled the rug\\r\\nI was getting kinda used to being someone you loved\\n\",\n",
       "  'link': 'https://www.kkbox.com/tw/tc/song/So6004X5-Pn7EDE17EDE10XL-index.html',\n",
       "  'tags': [],\n",
       "  'title': 'Someone You Loved'}]"
      ]
     },
     "execution_count": 8,
     "metadata": {},
     "output_type": "execute_result"
    }
   ],
   "source": [
    "data[0:5]"
   ]
  },
  {
   "cell_type": "markdown",
   "metadata": {},
   "source": [
    "在將dat存入pkl檔案中時，曾出現 「RecursionError: maximum recursion depth exceeded」\n",
    "因此使用sys設定遞迴限制"
   ]
  },
  {
   "cell_type": "code",
   "execution_count": 10,
   "metadata": {
    "collapsed": true
   },
   "outputs": [],
   "source": [
    "import sys\n",
    "sys.setrecursionlimit(1000000)"
   ]
  },
  {
   "cell_type": "code",
   "execution_count": 11,
   "metadata": {
    "collapsed": true
   },
   "outputs": [],
   "source": [
    "import pickle\n",
    "with open('songdata/lyrics.pkl', 'wb') as f:\n",
    "    pickle.dump(data, f)"
   ]
  },
  {
   "cell_type": "code",
   "execution_count": null,
   "metadata": {
    "collapsed": true
   },
   "outputs": [],
   "source": []
  }
 ],
 "metadata": {
  "kernelspec": {
   "display_name": "Python 3",
   "language": "python",
   "name": "python3"
  },
  "language_info": {
   "codemirror_mode": {
    "name": "ipython",
    "version": 3
   },
   "file_extension": ".py",
   "mimetype": "text/x-python",
   "name": "python",
   "nbconvert_exporter": "python",
   "pygments_lexer": "ipython3",
   "version": "3.6.7"
  }
 },
 "nbformat": 4,
 "nbformat_minor": 2
}
