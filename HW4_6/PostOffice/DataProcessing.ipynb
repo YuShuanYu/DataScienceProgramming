{
 "cells": [
  {
   "cell_type": "markdown",
   "metadata": {},
   "source": [
    "## 郵局特種郵件追蹤查詢資料\n",
    "\n",
    "### 資料內容\n",
    "V1          | V2      | V3     | V4      | V5       |V6\n",
    "------------|:-------:|-------:| -------:|---------:|-------\n",
    "郵件狀態代碼  | 掛號號碼 | 處理日期 | 處理時間 | 處理局號  | 其他 \n",
    "\n",
    "> 此檔案一共含有三億八千萬筆資料，因此為了確寶電腦可以運行，將資料先切割成90份，再依序讀入。  \n",
    "> 郵件狀態代碼是在解釋郵件在不同時期的狀況，例如：交寄郵件、投遞成功、投遞不成功等等。  \n",
    "> 在這邊先整理資料，計算每個郵局（處理局號）經手的郵件的狀態數量。  \n",
    "> 計算完後再將新的dataframe輸出成csv檔，以利之後直接讀入資料。"
   ]
  },
  {
   "cell_type": "code",
   "execution_count": null,
   "metadata": {},
   "outputs": [],
   "source": [
    "library(forcats)"
   ]
  },
  {
   "cell_type": "code",
   "execution_count": null,
   "metadata": {},
   "outputs": [],
   "source": [
    "#工作目錄\n",
    "setwd(\"C:\\\\Users\\\\chrisyu\\\\Desktop\\\\postdata\\\\tt\\\\\")\n",
    "code <- c(\"A1\",\t\"A2\",\t\"A3\",\t\"G1\",\t\"G2\",\t\"G3\",\t\"G4\",\t\"G5\",\t\"G7\",\t\"G8\",\t\"G9\",\t\"H4\",\t\"H7\",\t\"HL\",\t\"I1\",\t\"I2\",\t\"I3\",\t\"I4\",\t\"I5\",\t\"I6\",\t\"I7\",\t\"I8\",\t\"I9\",\t\"IL\",\t\"L1\",\t\"M1\",\t\"N1\",\t\"O1\",\t\"P3\",\t\"P4\",\t\"P5\",\t\"Q1\",\t\"S1\",\t\"S2\",\t\"T1\",\t\"T2\",\t\"T3\",\t\"T4\",\t\"T5\",\t\"T6\",\t\"U2\",\t\"V1\",\t\"V2\",\t\"V3\",\t\"V4\",\t\"V5\",\t\"V6\",\t\"VL\",\t\"W2\",\t\"W7\",\t\"X2\",\t\"X7\",\t\"Y1\",\t\"Y4\",\t\"Y5\",\t\"Y7\",\t\"Z1\",\t\"Z2\",\t\"Z4\",\t\"Z5\",\t\"Z7\",\t\"Z8\",\t\"Z9\")\n",
    "\n",
    "postall <- NULL\n",
    "#讀入資料\n",
    "for(i in c(0:89)){\n",
    "  post <- NULL\n",
    "  i <- formatC(i, width = 2, flag = 0) #函数是把1轉化成01\n",
    "  path <- paste0(\"tt\",i)\n",
    "  ttcsv <- read.csv(file = path, header = FALSE)\n",
    "  ttcsv$V5 <- as.factor(ttcsv$V5)\n",
    "  post <- data.frame(levels(ttcsv$V5))\n",
    "  colnames(post) <- c('office')\n",
    "#判斷狀態並計算數量\n",
    "  for(b in code){\n",
    "    ttsub <- subset(ttcsv, V1 == b)\n",
    "    ft <- fct_count(ttsub$V5)\n",
    "    ft <- as.data.frame(ft)\n",
    "    colnames(ft) <- c('office',b)\n",
    "    post <- merge(x=post,y=ft,by='office')\n",
    "  }\n",
    "#將不同檔案內dataframe合併成最終的postall\n",
    "  diffoff <- setdiff(post$office,postall$office)\n",
    "  plevel <- levels(as.factor(c(diffoff,levels(postall$office))))\n",
    "  postall$office <- factor(postall$office, levels=plevel)\n",
    "  post$office <- factor(post$office, levels=plevel)\n",
    "  for(j in c(1:dim(post)[1])){\n",
    "    ind <- which(postall$office==post$office[j])\n",
    "    if (length(ind)>0){\n",
    "      sumtable <- rbind(postall[ind,-1],post[j,-1])\n",
    "      sumtable <- rbind(sumtable,colSums(sumtable))\n",
    "      officetable <- data.frame(c(as.character(postall[ind,1]),as.character(postall[ind,1]),as.character(postall[ind,1])))\n",
    "      colnames(officetable) <- c('office')\n",
    "      sumtable <- cbind(officetable,sumtable)\n",
    "      postall[ind,] <- sumtable[3,]\n",
    "    }else{\n",
    "      postall <- rbind(postall,post[j,])\n",
    "    }\n",
    "  }\n",
    "}\n",
    "#輸出postall檔案\n",
    "write.table(postall,file=\"C:\\\\Users\\\\chrisyu\\\\Desktop\\\\postdata\\\\PostOffice.csv\",sep=\",\",row.names=F, na = \"NA\")\n"
   ]
  },
  {
   "cell_type": "code",
   "execution_count": null,
   "metadata": {},
   "outputs": [],
   "source": []
  }
 ],
 "metadata": {
  "kernelspec": {
   "display_name": "R",
   "language": "R",
   "name": "ir"
  },
  "language_info": {
   "codemirror_mode": "r",
   "file_extension": ".r",
   "mimetype": "text/x-r-source",
   "name": "R",
   "pygments_lexer": "r",
   "version": "3.5.1"
  }
 },
 "nbformat": 4,
 "nbformat_minor": 2
}
